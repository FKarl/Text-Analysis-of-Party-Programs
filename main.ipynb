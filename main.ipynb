{
 "cells": [
  {
   "cell_type": "markdown",
   "source": [
    "##### Imports:\n",
    "Import packages and load modells"
   ],
   "metadata": {
    "collapsed": false
   }
  },
  {
   "cell_type": "code",
   "execution_count": 212,
   "outputs": [],
   "source": [
    "from collections import Counter\n",
    "\n",
    "import numpy as np\n",
    "import spacy\n",
    "from matplotlib import pyplot as plt\n",
    "import re\n",
    "\n",
    "from enum import Enum\n",
    "\n",
    "nlp = spacy.load('de_core_news_md')\n"
   ],
   "metadata": {
    "collapsed": false,
    "pycharm": {
     "name": "#%%\n"
    }
   }
  },
  {
   "cell_type": "markdown",
   "source": [
    "##### Preprocessing and structure:"
   ],
   "metadata": {
    "collapsed": false
   }
  },
  {
   "cell_type": "code",
   "execution_count": 213,
   "outputs": [],
   "source": [
    "class Party(Enum):\n",
    "    AFD = 0\n",
    "    CDU = 1\n",
    "    FDP = 2\n",
    "    GRUENE = 3\n",
    "    LINKE = 4\n",
    "    SPD = 5\n"
   ],
   "metadata": {
    "collapsed": false,
    "pycharm": {
     "name": "#%%\n"
    }
   }
  },
  {
   "cell_type": "code",
   "execution_count": 214,
   "outputs": [],
   "source": [
    "def all_statistics(party: Party):\n",
    "    with open('manifestos/' + party.name + '.txt', encoding='utf-8', errors='ignore') as txt:\n",
    "        file = \" \".join(l.rstrip() for l in txt)\n",
    "    text = nlp(file)\n",
    "    words = [token.lemma_ for token in text\n",
    "             if not (token.is_stop\n",
    "                     or token.is_punct\n",
    "                     or token.is_space\n",
    "                     or token.like_num\n",
    "                     or token.like_url\n",
    "                     or token.like_email\n",
    "                     or token.is_currency\n",
    "                     or token.text.upper() == party.name\n",
    "                     or token.pos_ == 'VBZ'  # Verb, 3rd person singular present\n",
    "                     or token.pos_ == 'ADP'  # adposition\n",
    "                     or token.pos_ == 'PRON'  # pronoun\n",
    "                     or token.pos_ == 'AUX'  # auxiliary\n",
    "                     or not re.match('[\\x00-\\x7F]+', token.text))]  # remove non ascii\n",
    "    word_freq = Counter(words)\n",
    "    most_freq_nouns = word_freq.most_common(50)\n",
    "    return text, words, word_freq, most_freq_nouns"
   ],
   "metadata": {
    "collapsed": false,
    "pycharm": {
     "name": "#%%\n"
    }
   }
  },
  {
   "cell_type": "markdown",
   "source": [
    "Gather statistics for all parties"
   ],
   "metadata": {
    "collapsed": false
   }
  },
  {
   "cell_type": "code",
   "source": [
    "# statistics_tuple = (text, words, word_freq, most_freq_nouns)\n",
    "statistics = {}\n",
    "\n",
    "for party in Party:\n",
    "    statistics[party] = all_statistics(party)\n",
    "\n",
    "print('Loading statistics is finished!')\n"
   ],
   "metadata": {
    "collapsed": false,
    "pycharm": {
     "name": "#%%\n"
    }
   },
   "execution_count": 215,
   "outputs": [
    {
     "name": "stdout",
     "output_type": "stream",
     "text": [
      "Loading statistics is finished!\n"
     ]
    }
   ]
  },
  {
   "cell_type": "markdown",
   "source": [
    "##### Plotting:"
   ],
   "metadata": {
    "collapsed": false
   }
  },
  {
   "cell_type": "code",
   "source": [
    "def plottingPng(most_freq_words, name, show_plot=True, save_plot=False):\n",
    "    ranked_frequencies = []\n",
    "    x_axis = []\n",
    "    y_axis = []\n",
    "\n",
    "    for i, word in zip(range(len(most_freq_words)), most_freq_words):\n",
    "        ranked_frequencies.insert(i, word)\n",
    "\n",
    "\n",
    "    i = 0\n",
    "    for (x, y) in ranked_frequencies:\n",
    "        x_axis.insert(i, x)\n",
    "        y_axis.insert(i, y)\n",
    "        i += 1\n",
    "\n",
    "    y = np.arange(50)\n",
    "    plt.rcParams['figure.autolayout'] = True\n",
    "    fig, ax = plt.subplots()\n",
    "    ax.bar(y, y_axis, .5, color='blue')\n",
    "    ax.set_xticks(y, labels=x_axis, rotation=45, ha='right')\n",
    "\n",
    "    fig.set_figwidth(fig.get_figwidth() * 2)\n",
    "\n",
    "\n",
    "    if save_plot:\n",
    "        plt.savefig('graphs/graph_' + name + '.svg', format='svg')\n",
    "    if show_plot:\n",
    "        plt.show()"
   ],
   "metadata": {
    "collapsed": false,
    "pycharm": {
     "name": "#%%\n"
    }
   },
   "execution_count": 216,
   "outputs": []
  },
  {
   "cell_type": "markdown",
   "source": [
    "Plot the most frequent words for all parties"
   ],
   "metadata": {
    "collapsed": false,
    "pycharm": {
     "name": "#%% md\n"
    }
   }
  },
  {
   "cell_type": "code",
   "execution_count": null,
   "outputs": [],
   "source": [
    "for party in Party:\n",
    "    plottingPng(statistics[party][3], party.name, True)\n",
    "\n"
   ],
   "metadata": {
    "collapsed": false,
    "pycharm": {
     "name": "#%%\n"
    }
   }
  }
 ],
 "metadata": {
  "kernelspec": {
   "display_name": "Python 3",
   "language": "python",
   "name": "python3"
  },
  "language_info": {
   "codemirror_mode": {
    "name": "ipython",
    "version": 2
   },
   "file_extension": ".py",
   "mimetype": "text/x-python",
   "name": "python",
   "nbconvert_exporter": "python",
   "pygments_lexer": "ipython2",
   "version": "2.7.6"
  }
 },
 "nbformat": 4,
 "nbformat_minor": 0
}